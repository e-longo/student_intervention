{
  "nbformat": 4,
  "nbformat_minor": 0,
  "metadata": {
    "colab": {
      "name": "student_intervention_PT.ipynb",
      "version": "0.3.2",
      "provenance": [],
      "collapsed_sections": []
    },
    "kernelspec": {
      "display_name": "Python 3",
      "language": "python",
      "name": "python3"
    }
  },
  "cells": [
    {
      "cell_type": "markdown",
      "metadata": {
        "id": "view-in-github",
        "colab_type": "text"
      },
      "source": [
        "[View in Colaboratory](https://colab.research.google.com/github/e-longo/student_intervention/blob/master/student_intervention_PT.ipynb)"
      ]
    },
    {
      "metadata": {
        "id": "1REtXm1vuvuh",
        "colab_type": "text"
      },
      "cell_type": "markdown",
      "source": [
        "# Nanodegree Engenheiro de Machine Learning\n",
        "## Aprendizagem Supervisionada\n",
        "## Projeto 2: Construindo um Sistema de Intervenção para Estudantes"
      ]
    },
    {
      "metadata": {
        "id": "QvJP53k3uvuj",
        "colab_type": "text"
      },
      "cell_type": "markdown",
      "source": [
        "Bem-vindo ao segundo projeto do Nanodegree de Machine Learning! Neste Notebook, alguns templates de código já foram fornecidos, e será o seu trabalho implementar funcionalidades necessárias para completar este projeto com êxito. Seções que começam com **'Implementação'** no cabeçalho indicam que o bloco de código que se segue precisará de funcionalidades adicionais que você deve fornecer. Instruções serão providenciadas para cada seção e as especificações para cada implementação estarão marcadas no bloco de código com o comando `'TODO'`. Tenha certeza de ler atentamente todas as instruções!\n",
        "\n",
        "Além do código implementado, haverá questões relacionadas ao projeto e à implementação que você deve responder. Cada seção em que você tem que responder uma questão será antecedida de um cabeçalho **'Questão X'**. Leia atentamente cada questão e escreva respostas completas nas caixas de texto subsequentes que começam com **'Resposta: '**. O projeto enviado será avaliado baseado nas respostas para cada questão e a implementação que você forneceu.  \n",
        "\n",
        ">**Nota:** Células de código e Markdown podem ser executadas utilizando o atalho de teclado **Shift + Enter**. Além disso, as células Markdown podem ser editadas, um clique duplo na célula entra no modo de edição."
      ]
    },
    {
      "metadata": {
        "id": "siA0ZjeQuvuk",
        "colab_type": "text"
      },
      "cell_type": "markdown",
      "source": [
        "### Questão 1 - Classificação versus Regressão\n",
        "*Seu objetivo neste projeto é identificar estudantes que possam precisar de intervenção antecipada antes de serem reprovados. Que tipo de problema de aprendizagem supervisionada é esse: classificação ou regressão? Por quê?*"
      ]
    },
    {
      "metadata": {
        "id": "Ha8Oa0zPuvul",
        "colab_type": "text"
      },
      "cell_type": "markdown",
      "source": [
        "**Resposta: ** o tipo de aprendizagem supervisionado é de classificação, pois o resultado que buscamos é discreto e não contínuo (para o caso de regressão) "
      ]
    },
    {
      "metadata": {
        "id": "pBkvx0Qhuvum",
        "colab_type": "text"
      },
      "cell_type": "markdown",
      "source": [
        "## Observando os Dados\n",
        "Execute a célula de código abaixo para carregar as bibliotecas de Python necessárias e os dados sobre os estudantes. Note que a última coluna desse conjunto de dados, `'passed'`, será nosso rótulo alvo (se o aluno foi ou não aprovado). As outras colunas são atributos sobre cada aluno."
      ]
    },
    {
      "metadata": {
        "id": "ikiY8lpfuvun",
        "colab_type": "code",
        "colab": {
          "resources": {
            "http://localhost:8080/nbextensions/google.colab/files.js": {
              "data": "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",
              "ok": true,
              "headers": [
                [
                  "content-type",
                  "application/javascript"
                ]
              ],
              "status": 200,
              "status_text": ""
            }
          },
          "base_uri": "https://localhost:8080/",
          "height": 325
        },
        "outputId": "570be24b-e9cb-4285-95a2-e9c26e0a047b"
      },
      "cell_type": "code",
      "source": [
        "# Importar bibliotecas\n",
        "import numpy as np\n",
        "import pandas as pd\n",
        "from time import time\n",
        "from sklearn.metrics import f1_score\n",
        "from google.colab import files\n",
        "import io\n",
        "\n",
        "# Ler os dados dos estudantes\n",
        "uploaded = files.upload()\n",
        "student_data = pd.read_csv(io.StringIO(uploaded['student-data.csv'].decode('utf-8')))\n",
        "\n",
        "print (\"Os dados dos estudantes foram lidos com êxito!\")\n",
        "\n",
        "#exibe os cinco primeiros registros\n",
        "student_data.head()"
      ],
      "execution_count": 12,
      "outputs": [
        {
          "output_type": "display_data",
          "data": {
            "text/html": [
              "\n",
              "     <input type=\"file\" id=\"files-9617bd8e-44e5-4910-ba06-39589fefd5f5\" name=\"files[]\" multiple disabled />\n",
              "     <output id=\"result-9617bd8e-44e5-4910-ba06-39589fefd5f5\">\n",
              "      Upload widget is only available when the cell has been executed in the\n",
              "      current browser session. Please rerun this cell to enable.\n",
              "      </output>\n",
              "      <script src=\"/nbextensions/google.colab/files.js\"></script> "
            ],
            "text/plain": [
              "<IPython.core.display.HTML object>"
            ]
          },
          "metadata": {
            "tags": []
          }
        },
        {
          "output_type": "stream",
          "text": [
            "Saving student-data.csv to student-data (4).csv\n",
            "Os dados dos estudantes foram lidos com êxito!\n"
          ],
          "name": "stdout"
        },
        {
          "output_type": "execute_result",
          "data": {
            "text/html": [
              "<div>\n",
              "<style scoped>\n",
              "    .dataframe tbody tr th:only-of-type {\n",
              "        vertical-align: middle;\n",
              "    }\n",
              "\n",
              "    .dataframe tbody tr th {\n",
              "        vertical-align: top;\n",
              "    }\n",
              "\n",
              "    .dataframe thead th {\n",
              "        text-align: right;\n",
              "    }\n",
              "</style>\n",
              "<table border=\"1\" class=\"dataframe\">\n",
              "  <thead>\n",
              "    <tr style=\"text-align: right;\">\n",
              "      <th></th>\n",
              "      <th>school</th>\n",
              "      <th>sex</th>\n",
              "      <th>age</th>\n",
              "      <th>address</th>\n",
              "      <th>famsize</th>\n",
              "      <th>Pstatus</th>\n",
              "      <th>Medu</th>\n",
              "      <th>Fedu</th>\n",
              "      <th>Mjob</th>\n",
              "      <th>Fjob</th>\n",
              "      <th>...</th>\n",
              "      <th>internet</th>\n",
              "      <th>romantic</th>\n",
              "      <th>famrel</th>\n",
              "      <th>freetime</th>\n",
              "      <th>goout</th>\n",
              "      <th>Dalc</th>\n",
              "      <th>Walc</th>\n",
              "      <th>health</th>\n",
              "      <th>absences</th>\n",
              "      <th>passed</th>\n",
              "    </tr>\n",
              "  </thead>\n",
              "  <tbody>\n",
              "    <tr>\n",
              "      <th>0</th>\n",
              "      <td>GP</td>\n",
              "      <td>F</td>\n",
              "      <td>18</td>\n",
              "      <td>U</td>\n",
              "      <td>GT3</td>\n",
              "      <td>A</td>\n",
              "      <td>4</td>\n",
              "      <td>4</td>\n",
              "      <td>at_home</td>\n",
              "      <td>teacher</td>\n",
              "      <td>...</td>\n",
              "      <td>no</td>\n",
              "      <td>no</td>\n",
              "      <td>4</td>\n",
              "      <td>3</td>\n",
              "      <td>4</td>\n",
              "      <td>1</td>\n",
              "      <td>1</td>\n",
              "      <td>3</td>\n",
              "      <td>6</td>\n",
              "      <td>no</td>\n",
              "    </tr>\n",
              "    <tr>\n",
              "      <th>1</th>\n",
              "      <td>GP</td>\n",
              "      <td>F</td>\n",
              "      <td>17</td>\n",
              "      <td>U</td>\n",
              "      <td>GT3</td>\n",
              "      <td>T</td>\n",
              "      <td>1</td>\n",
              "      <td>1</td>\n",
              "      <td>at_home</td>\n",
              "      <td>other</td>\n",
              "      <td>...</td>\n",
              "      <td>yes</td>\n",
              "      <td>no</td>\n",
              "      <td>5</td>\n",
              "      <td>3</td>\n",
              "      <td>3</td>\n",
              "      <td>1</td>\n",
              "      <td>1</td>\n",
              "      <td>3</td>\n",
              "      <td>4</td>\n",
              "      <td>no</td>\n",
              "    </tr>\n",
              "    <tr>\n",
              "      <th>2</th>\n",
              "      <td>GP</td>\n",
              "      <td>F</td>\n",
              "      <td>15</td>\n",
              "      <td>U</td>\n",
              "      <td>LE3</td>\n",
              "      <td>T</td>\n",
              "      <td>1</td>\n",
              "      <td>1</td>\n",
              "      <td>at_home</td>\n",
              "      <td>other</td>\n",
              "      <td>...</td>\n",
              "      <td>yes</td>\n",
              "      <td>no</td>\n",
              "      <td>4</td>\n",
              "      <td>3</td>\n",
              "      <td>2</td>\n",
              "      <td>2</td>\n",
              "      <td>3</td>\n",
              "      <td>3</td>\n",
              "      <td>10</td>\n",
              "      <td>yes</td>\n",
              "    </tr>\n",
              "    <tr>\n",
              "      <th>3</th>\n",
              "      <td>GP</td>\n",
              "      <td>F</td>\n",
              "      <td>15</td>\n",
              "      <td>U</td>\n",
              "      <td>GT3</td>\n",
              "      <td>T</td>\n",
              "      <td>4</td>\n",
              "      <td>2</td>\n",
              "      <td>health</td>\n",
              "      <td>services</td>\n",
              "      <td>...</td>\n",
              "      <td>yes</td>\n",
              "      <td>yes</td>\n",
              "      <td>3</td>\n",
              "      <td>2</td>\n",
              "      <td>2</td>\n",
              "      <td>1</td>\n",
              "      <td>1</td>\n",
              "      <td>5</td>\n",
              "      <td>2</td>\n",
              "      <td>yes</td>\n",
              "    </tr>\n",
              "    <tr>\n",
              "      <th>4</th>\n",
              "      <td>GP</td>\n",
              "      <td>F</td>\n",
              "      <td>16</td>\n",
              "      <td>U</td>\n",
              "      <td>GT3</td>\n",
              "      <td>T</td>\n",
              "      <td>3</td>\n",
              "      <td>3</td>\n",
              "      <td>other</td>\n",
              "      <td>other</td>\n",
              "      <td>...</td>\n",
              "      <td>no</td>\n",
              "      <td>no</td>\n",
              "      <td>4</td>\n",
              "      <td>3</td>\n",
              "      <td>2</td>\n",
              "      <td>1</td>\n",
              "      <td>2</td>\n",
              "      <td>5</td>\n",
              "      <td>4</td>\n",
              "      <td>yes</td>\n",
              "    </tr>\n",
              "  </tbody>\n",
              "</table>\n",
              "<p>5 rows × 31 columns</p>\n",
              "</div>"
            ],
            "text/plain": [
              "  school sex  age address famsize Pstatus  Medu  Fedu     Mjob      Fjob  \\\n",
              "0     GP   F   18       U     GT3       A     4     4  at_home   teacher   \n",
              "1     GP   F   17       U     GT3       T     1     1  at_home     other   \n",
              "2     GP   F   15       U     LE3       T     1     1  at_home     other   \n",
              "3     GP   F   15       U     GT3       T     4     2   health  services   \n",
              "4     GP   F   16       U     GT3       T     3     3    other     other   \n",
              "\n",
              "   ...   internet romantic  famrel  freetime  goout Dalc Walc health absences  \\\n",
              "0  ...         no       no       4         3      4    1    1      3        6   \n",
              "1  ...        yes       no       5         3      3    1    1      3        4   \n",
              "2  ...        yes       no       4         3      2    2    3      3       10   \n",
              "3  ...        yes      yes       3         2      2    1    1      5        2   \n",
              "4  ...         no       no       4         3      2    1    2      5        4   \n",
              "\n",
              "  passed  \n",
              "0     no  \n",
              "1     no  \n",
              "2    yes  \n",
              "3    yes  \n",
              "4    yes  \n",
              "\n",
              "[5 rows x 31 columns]"
            ]
          },
          "metadata": {
            "tags": []
          },
          "execution_count": 12
        }
      ]
    },
    {
      "metadata": {
        "id": "7j8Srp17uvur",
        "colab_type": "text"
      },
      "cell_type": "markdown",
      "source": [
        "### Implementação: Observando os Dados\n",
        "Vamos começar observando o conjunto de dados para determinar quantos são os estudantes sobre os quais temos informações e entender a taxa de graduação entre esses estudantes. Na célula de código abaixo, você vai precisar calcular o seguinte:\n",
        "- O número total de estudantes, `n_students`.\n",
        "- O número total de atributos para cada estudante, `n_features`.\n",
        "- O número de estudantes aprovados, `n_passed`.\n",
        "- O número de estudantes reprovados, `n_failed`.\n",
        "- A taxa de graduação da classe, `grad_rate`, em porcentagem (%).\n"
      ]
    },
    {
      "metadata": {
        "id": "Xe9lvmaTuvur",
        "colab_type": "code",
        "colab": {
          "base_uri": "https://localhost:8080/",
          "height": 102
        },
        "outputId": "6702cf8d-c553-4808-dc13-ee89ea5c622d"
      },
      "cell_type": "code",
      "source": [
        "# TODO: Calcule o número de estudante\n",
        "n_students = student_data.shape[0]\n",
        "\n",
        "# TODO: Calcule o número de atributos\n",
        "n_features = student_data.shape[1]-1\n",
        "\n",
        "# TODO: Calcule o número de alunos aprovados\n",
        "n_passed = student_data[student_data['passed']=='yes'].shape[0]\n",
        "\n",
        "# TODO: Calcule o número de alunos reprovados\n",
        "n_failed = student_data[student_data['passed']=='no'].shape[0]\n",
        "\n",
        "# TODO: Calcule a taxa de graduação\n",
        "grad_rate = float(n_passed/n_students)*100\n",
        "\n",
        "# Imprima os resultados\n",
        "print(\"Número total de estudantes: {}\".format(n_students))\n",
        "print(\"Número de atributos: {}\".format(n_features))\n",
        "print(\"Número de estudantes aprovados: {}\".format(n_passed))\n",
        "print(\"Número de estudantes reprovados: {}\".format(n_failed))\n",
        "print(\"Taxa de graduação: {:.2f}%\".format(grad_rate))"
      ],
      "execution_count": 13,
      "outputs": [
        {
          "output_type": "stream",
          "text": [
            "Número total de estudantes: 395\n",
            "Número de atributos: 30\n",
            "Número de estudantes aprovados: 265\n",
            "Número de estudantes reprovados: 130\n",
            "Taxa de graduação: 67.09%\n"
          ],
          "name": "stdout"
        }
      ]
    },
    {
      "metadata": {
        "id": "MBAegF2yuvuu",
        "colab_type": "text"
      },
      "cell_type": "markdown",
      "source": [
        "## Preparando os Dados\n",
        "Nesta seção, vamos preparara os dados para modelagem, treinamento e teste.\n",
        "\n",
        "### Identificar atributos e variáveis-alvo\n",
        "É comum que os dados que você obteve contenham atributos não numéricos. Isso pode ser um problema, dado que a maioria dos algoritmos de machine learning esperam dados númericos para operar cálculos.\n",
        "\n",
        "Execute a célula de código abaixo para separar os dados dos estudantes em atributos e variáveis-alvo e verificar se algum desses atributos é não numérico."
      ]
    },
    {
      "metadata": {
        "id": "Psr3Py_Huvuu",
        "colab_type": "code",
        "colab": {
          "base_uri": "https://localhost:8080/",
          "height": 513
        },
        "outputId": "b78acd6d-c224-458f-a59b-704b043f1f50"
      },
      "cell_type": "code",
      "source": [
        "# Extraia as colunas dos atributo\n",
        "feature_cols = list(student_data.columns[:-1])\n",
        "\n",
        "# Extraia a coluna-alvo 'passed'\n",
        "target_col = student_data.columns[-1] \n",
        "\n",
        "# Mostre a lista de colunas\n",
        "print(\"Colunas de atributos:\\n{}\".format(feature_cols))\n",
        "print(\"\\nColuna-alvo: {}\".format(target_col))\n",
        "\n",
        "# Separe os dados em atributos e variáveis-alvo (X_all e y_all, respectivamente)\n",
        "X_all = student_data[feature_cols]\n",
        "y_all = student_data[target_col]\n",
        "\n",
        "# Mostre os atributos imprimindo as cinco primeiras linhas\n",
        "print(\"\\nFeature values:\")\n",
        "print(X_all.head())"
      ],
      "execution_count": 16,
      "outputs": [
        {
          "output_type": "stream",
          "text": [
            "Colunas de atributos:\n",
            "['school', 'sex', 'age', 'address', 'famsize', 'Pstatus', 'Medu', 'Fedu', 'Mjob', 'Fjob', 'reason', 'guardian', 'traveltime', 'studytime', 'failures', 'schoolsup', 'famsup', 'paid', 'activities', 'nursery', 'higher', 'internet', 'romantic', 'famrel', 'freetime', 'goout', 'Dalc', 'Walc', 'health', 'absences']\n",
            "\n",
            "Coluna-alvo: passed\n",
            "\n",
            "Feature values:\n",
            "  school sex  age address famsize Pstatus  Medu  Fedu     Mjob      Fjob  \\\n",
            "0     GP   F   18       U     GT3       A     4     4  at_home   teacher   \n",
            "1     GP   F   17       U     GT3       T     1     1  at_home     other   \n",
            "2     GP   F   15       U     LE3       T     1     1  at_home     other   \n",
            "3     GP   F   15       U     GT3       T     4     2   health  services   \n",
            "4     GP   F   16       U     GT3       T     3     3    other     other   \n",
            "\n",
            "    ...    higher internet  romantic  famrel  freetime goout Dalc Walc health  \\\n",
            "0   ...       yes       no        no       4         3     4    1    1      3   \n",
            "1   ...       yes      yes        no       5         3     3    1    1      3   \n",
            "2   ...       yes      yes        no       4         3     2    2    3      3   \n",
            "3   ...       yes      yes       yes       3         2     2    1    1      5   \n",
            "4   ...       yes       no        no       4         3     2    1    2      5   \n",
            "\n",
            "  absences  \n",
            "0        6  \n",
            "1        4  \n",
            "2       10  \n",
            "3        2  \n",
            "4        4  \n",
            "\n",
            "[5 rows x 30 columns]\n"
          ],
          "name": "stdout"
        }
      ]
    },
    {
      "metadata": {
        "id": "PBDyQ-Q6uvux",
        "colab_type": "text"
      },
      "cell_type": "markdown",
      "source": [
        "### Pré-processar Colunas de Atributo\n",
        "\n",
        "Como você pode ver, há muitas colunas não numéricas que precisam ser convertidas! Muitas delas são simplesmente `yes`/`no`, por exemplo, a coluna `internet`. É razoável converter essas variáveis em valores (binários) `1`/`0`.\n",
        "\n",
        "Outras colunas, como `Mjob` e `Fjob`, têm mais do que dois valores e são conhecidas como variáveis categóricas. A maneira recomendada de lidar com esse tipo de coluna é criar uma quantidade de colunas proporcional aos possíveis valores (por exemplo, `Fjob_teacher`, `Fjob_other`, `Fjob_services`, etc), e assinalar `1` para um deles e `0` para todos os outros.\n",
        "\n",
        "Essas colunas geradas são por vezes chamadas de _variáveis postiças_ (_dummy variables_), e nós iremos utilizar a função [`pandas.get_dummies()`](http://pandas.pydata.org/pandas-docs/stable/generated/pandas.get_dummies.html?highlight=get_dummies#pandas.get_dummies) para fazer essa conversão. Execute a célula de código abaixo para executar a rotina de pré-processamento discutida nesta seção."
      ]
    },
    {
      "metadata": {
        "id": "xgnz9aw2uvux",
        "colab_type": "code",
        "colab": {
          "base_uri": "https://localhost:8080/",
          "height": 71
        },
        "outputId": "1596233c-3548-4ed5-d29c-bbb85acc962d"
      },
      "cell_type": "code",
      "source": [
        "def preprocess_features(X):\n",
        "    ''' Pré-processa os dados dos estudantes e converte as variáveis binárias não numéricas em\n",
        "        variáveis binárias (0/1). Converte variáveis categóricas em variáveis postiças. '''\n",
        "    \n",
        "    # Inicialize nova saída DataFrame\n",
        "    output = pd.DataFrame(index = X.index)\n",
        "\n",
        "    # Observe os dados em cada coluna de atributos \n",
        "    for col, col_data in X.iteritems():\n",
        "        \n",
        "        # Se o tipo de dado for não numérico, substitua todos os valores yes/no por 1/0\n",
        "        if col_data.dtype == object:\n",
        "            col_data = col_data.replace(['yes', 'no'], [1, 0])\n",
        "\n",
        "        # Se o tipo de dado for categórico, converta-o para uma variável dummy\n",
        "        if col_data.dtype == object:\n",
        "            # Example: 'school' => 'school_GP' and 'school_MS'\n",
        "            col_data = pd.get_dummies(col_data, prefix = col)  \n",
        "        \n",
        "        # Reúna as colunas revisadas\n",
        "        output = output.join(col_data)\n",
        "    \n",
        "    return output\n",
        "\n",
        "X_all = preprocess_features(X_all)\n",
        "print(\"Processed feature columns ({} total features):\\n{}\".format(len(X_all.columns), list(X_all.columns)))"
      ],
      "execution_count": 17,
      "outputs": [
        {
          "output_type": "stream",
          "text": [
            "Processed feature columns (48 total features):\n",
            "['school_GP', 'school_MS', 'sex_F', 'sex_M', 'age', 'address_R', 'address_U', 'famsize_GT3', 'famsize_LE3', 'Pstatus_A', 'Pstatus_T', 'Medu', 'Fedu', 'Mjob_at_home', 'Mjob_health', 'Mjob_other', 'Mjob_services', 'Mjob_teacher', 'Fjob_at_home', 'Fjob_health', 'Fjob_other', 'Fjob_services', 'Fjob_teacher', 'reason_course', 'reason_home', 'reason_other', 'reason_reputation', 'guardian_father', 'guardian_mother', 'guardian_other', 'traveltime', 'studytime', 'failures', 'schoolsup', 'famsup', 'paid', 'activities', 'nursery', 'higher', 'internet', 'romantic', 'famrel', 'freetime', 'goout', 'Dalc', 'Walc', 'health', 'absences']\n"
          ],
          "name": "stdout"
        }
      ]
    },
    {
      "metadata": {
        "id": "-Gg9WIbAuvu1",
        "colab_type": "text"
      },
      "cell_type": "markdown",
      "source": [
        "### Implementação: Divisão dos Dados de Treinamento e Teste\n",
        "Até agora, nós convertemos todos os atributos _categóricos_ em valores numéricos. Para o próximo passo, vamos dividir os dados (tanto atributos como os rótulos correspondentes) em conjuntos de treinamento e teste. Na célula de código abaixo, você irá precisar implementar o seguinte:\n",
        "- Embaralhe aleatoriamente os dados (`X_all`, `y_all`) em subconjuntos de treinamento e teste.\n",
        "  - Utilizar 300 pontos de treinamento (aproxidamente 75%) e 95 pontos de teste (aproximadamente 25%).\n",
        "  - Estabelecer um `random_state` para as funções que você utiliza, se a opção existir.\n",
        "  - Armazene os resultados em `X_train`, `X_test`, `y_train` e `y_test`."
      ]
    },
    {
      "metadata": {
        "id": "gmmHyVMiuvu1",
        "colab_type": "code",
        "colab": {
          "base_uri": "https://localhost:8080/",
          "height": 51
        },
        "outputId": "61170227-9895-45c1-fbad-4763f333b8c3"
      },
      "cell_type": "code",
      "source": [
        "# TODO: Importe qualquer funcionalidade adicional de que você possa precisar aqui\n",
        "from sklearn.cross_validation import train_test_split\n",
        "\n",
        "# TODO: Estabeleça o número de pontos de treinamento\n",
        "num_train = 300\n",
        "\n",
        "# Estabeleça o número de pontos de teste\n",
        "num_test = X_all.shape[0] - num_train\n",
        "\n",
        "# TODO: Emabaralhe e distribua o conjunto de dados de acordo com o número de pontos de treinamento e teste abaixo\n",
        "X_train, X_test, y_train, y_test = train_test_split(X_all, y_all,\n",
        "                                                    test_size=0.24, train_size = 0.76, random_state=42)\n",
        "\n",
        "# Mostre o resultado da distribuição\n",
        "print(\"O conjunto de treinamento tem {} amostras.\".format(X_train.shape[0]))\n",
        "print(\"O conjunto de teste tem {} amostras.\".format(X_test.shape[0]))"
      ],
      "execution_count": 24,
      "outputs": [
        {
          "output_type": "stream",
          "text": [
            "O conjunto de treinamento tem 300 amostras.\n",
            "O conjunto de teste tem 95 amostras.\n"
          ],
          "name": "stdout"
        }
      ]
    },
    {
      "metadata": {
        "id": "4E_fAZ7puvu4",
        "colab_type": "text"
      },
      "cell_type": "markdown",
      "source": [
        "## Treinando e Avaliando Modelos\n",
        "Nesta seção, você irá escolher 3 modelos de aprendizagem supervisionada que sejam apropriados para esse problema e que estejam disponíveis no `scikit-learn`. Primeiro você irá discutir o raciocínio por trás da escolha desses três modelos considerando suas vantagens e desvantagens e o que você sabe sobre os dados. Depois você irá ajustar o modelo a diferentes tamanhos de conjuntos de treinamento (com 100, 200 e 300 pontos) e medir a pontuação F<sub>1</sub>. Você vai precisar preencher três tabelas (uma para cada modelo) que mostrem o tamanho do conjunto de treinamento, o tempo de treinamento, o tempo de previsão e a pontuação F<sub>1</sub> no conjunto de treinamento.\n",
        "\n",
        "**Os seguintes modelos de aprendizagem supervisionada estão atualmente disponíveis no **[`scikit-learn`](http://scikit-learn.org/stable/supervised_learning.html)** para você escolher:**\n",
        "- Gaussian Naive Bayes (GaussianNB)\n",
        "- Árvores de Decisão\n",
        "- Métodos de agregação (Bagging, AdaBoost, Random Forest, Gradient Boosting)\n",
        "- K-Nearest Neighbors (KNeighbors)\n",
        "- Método do gradiente estocástico (SGDC)\n",
        "- Máquinas de vetores de suporte (SVM)\n",
        "- Regressão logística"
      ]
    },
    {
      "metadata": {
        "id": "bfAoj4Cguvu4",
        "colab_type": "text"
      },
      "cell_type": "markdown",
      "source": [
        "### Questão 2 - Aplicação dos Modelos\n",
        "*Liste três modelos de aprendizagem supervisionada que são apropriadas para esse problema. Para cada modelo escolhido:*\n",
        "- Descreva uma aplicação em mundo real na indústria em que o modelo pode ser aplicado. *(Talvez você precise fazer um pouco de pesquisa para responder essa questão – dê as devidas referências!)* \n",
        "- Quais são as vantagens do modelo; quando ele tem desempenho melhor? \n",
        "- Quais são as desvantagens do modelo, quando ele tem desempenho pior?\n",
        "- O que faz desse modelo um bom candidato para o problema, considerando o que você sabe sobre os dados?"
      ]
    },
    {
      "metadata": {
        "id": "WGX12grouvu6",
        "colab_type": "text"
      },
      "cell_type": "markdown",
      "source": [
        "**Resposta: **\n",
        "\n",
        "\n",
        "\n",
        "*   **SVM:**\n",
        "        Aplicação: análise espaço-temporal do uso e ocupação do sono na bacia do rio vieira (https://www.researchgate.net/publication/281747312_APLICACAO_DO_ALGORITMO_SUPPORT_VECTOR_MACHINE_NA_ANALISE_ESPACO-_TEMPORAL_DO_USO_E_OCUPACAO_DO_SOLO_NA_BACIA_DO_RIO_VIEIRA_APPLICATION_OF_SUPPORT_VECTOR_MACHINE_ALGORITHM_TO_THE_SPATIOTEMPORAL_ANALYSI).\n",
        "        Vantagens: trata bem dados de alta dimensão e possui processo de classificação rápido\n",
        "        Desvantagens: Não funciona bem em conjuntos de dados muito grandes (pois exige inversão de matriz) e em conjuntos com grande quantidade de ruídos.\n",
        "        Motivo escolha: devido a grande quantidade de atributos presentes no problema de classificação.\n",
        "*   **Árvore de decisão:**\n",
        "        Aplicação: utilização na gestão de frota de uma distribuidora de combustível a fim de maximizar a utilização da frota disponível (https://acervodigital.ufpr.br/handle/1884/46683).\n",
        "        Vantagens: facilidade ao entender e gerar as regras, tem bom desempenho com grandes quantidades de informações em pouco tempo e está apto a lidar tanto com dados nominais ou com dados categóricos.\n",
        "        Desvantagens: as árvores geradas podem ser muito grandes (dificultando o entendimento da estrutura gerada), um mesmo conceito pode ser representado por várias árvores de decisão e  dificuldade de saber em alguns casos quando iniciar uma formulação na árvore de decisão.\n",
        "        Motivo escolha: por ser um modelo que atende bem quando há uma grande variedade de atributos, podendo este escolher os mais significantes para o problema e devido ao fato do resultado esperado ser binário.\n",
        "*   **Regressão Logística:**\n",
        "        Aplicação: verificação da qualidade do ar atmosférico (http://www.scielo.br/pdf/esa/v16n2/v16n2a11).\n",
        "        Vantagens: possui facilidade em classificar indivíduos e categorias, requer pequeno número de suposições e possui também facilidade em lidar com variáveis independentes categóricas.\n",
        "        Desvantagens: sensibilidade à colinearidade.\n",
        "        Motivo escolha: também devido a grande quantidade de atributos envolvidos e pela resposta do problema ser do tipo sim ou não (passou ou não passou).\n",
        "\n",
        "\n",
        "\n"
      ]
    },
    {
      "metadata": {
        "id": "UHwdsYgyuvu6",
        "colab_type": "text"
      },
      "cell_type": "markdown",
      "source": [
        "### Configuração\n",
        "Execute a célula de código abaixo para inicializar três funções de ajuda que você pode utilizar para treinar e testar os três modelos de aprendizagem supervisionada que você escolheu acima. As funções são as seguintes:\n",
        "- `train_classifier` - recebe como parâmetro um classificador e dados de treinamento e ajusta o classificador aos dados.\n",
        "- `predict_labels` - recebe como parâmetro um classificador ajustado, atributos e rótulo alvo e faz estimativas utilizando a pontuação do F<sub>1</sub>.\n",
        "- `train_predict` - recebe como entrada um classificador, e dados de treinamento e teste, e executa `train_clasifier` e `predict_labels`.\n",
        " - Essa função vai dar a pontuação F<sub>1</sub> tanto para os dados de treinamento como para os de teste, separadamente."
      ]
    },
    {
      "metadata": {
        "id": "E3lc5mbYuvu7",
        "colab_type": "code",
        "colab": {}
      },
      "cell_type": "code",
      "source": [
        "def train_classifier(clf, X_train, y_train):\n",
        "    ''' Ajusta um classificador para os dados de treinamento. '''\n",
        "    \n",
        "    # Inicia o relógio, treina o classificador e, então, para o relógio\n",
        "    start = time()\n",
        "    clf.fit(X_train, y_train)\n",
        "    end = time()\n",
        "    \n",
        "    # Imprime os resultados\n",
        "    print(\"O modelo foi treinado em {:.4f} segundos\".format(end - start))\n",
        "\n",
        "    \n",
        "def predict_labels(clf, features, target):\n",
        "    ''' Faz uma estimativa utilizando um classificador ajustado baseado na pontuação F1. '''\n",
        "    \n",
        "    # Inicia o relógio, faz estimativas e, então, o relógio para\n",
        "    start = time()\n",
        "    y_pred = clf.predict(features)\n",
        "    end = time()\n",
        "    \n",
        "    # Imprime os resultados de retorno\n",
        "    print(\"As previsões foram feitas em {:.4f} segundos.\".format(end - start))\n",
        "    return f1_score(target.values, y_pred, pos_label='yes')\n",
        "\n",
        "\n",
        "def train_predict(clf, X_train, y_train, X_test, y_test):\n",
        "    ''' Treina e faz estimativas utilizando um classificador baseado na pontuação do F1. '''\n",
        "    \n",
        "    # Indica o tamanho do classificador e do conjunto de treinamento\n",
        "    print(\"Treinando um {} com {} pontos de treinamento. . .\".format(clf.__class__.__name__, len(X_train)))\n",
        "    \n",
        "    # Treina o classificador\n",
        "    train_classifier(clf, X_train, y_train)\n",
        "    \n",
        "    # Imprime os resultados das estimativas de ambos treinamento e teste\n",
        "    print(\"Pontuação F1 para o conjunto de treino: {:.4f}.\".format(predict_labels(clf, X_train, y_train)))\n",
        "    print(\"Pontuação F1 para o conjunto de teste: {:.4f}.\".format(predict_labels(clf, X_test, y_test)))"
      ],
      "execution_count": 0,
      "outputs": []
    },
    {
      "metadata": {
        "id": "3u3hIvS8uvu-",
        "colab_type": "text"
      },
      "cell_type": "markdown",
      "source": [
        "### Implementação: Métricas de Desempenho do Modelo\n",
        "Com as funções acima, você vai importar os três modelos de aprendizagem supervisionada de sua escolha e executar a função `train_prediction` para cada um deles. Lembre-se de que você vai precisar treinar e usar cada classificador para três diferentes tamanhos de conjuntos de treinamentos: 100, 200 e 300 pontos. Então você deve ter 9 saídas diferentes abaixo – 3 para cada modelo utilizando cada tamanho de conjunto de treinamento. Na célula de código a seguir, você deve implementar o seguinte:\n",
        "- Importe os três modelos de aprendizagem supervisionada que você escolheu na seção anterior.\n",
        "- Inicialize os três modelos e armazene eles em `clf_A`, `clf_B` e `clf_C`.\n",
        " - Defina um `random_state` para cada modelo, se a opção existir.\n",
        " - **Nota:** Utilize as configurações padrão para cada modelo – você vai calibrar um modelo específico em uma seção posterior.\n",
        "- Crie diferentes tamanhos de conjuntos de treinamento para treinar cada modelo.\n",
        " - *Não embaralhe e distribua novamente os dados! Os novos pontos de treinamento devem ser tirados de `X_train` e `y_train`.*\n",
        "- Treine cada modelo com cada tamanho de conjunto de treinamento e faça estimativas com o conjunto de teste (9 vezes no total).  \n",
        "**Nota:** Três tabelas são fornecidas depois da célula de código a seguir, nas quais você deve anotar seus resultados."
      ]
    },
    {
      "metadata": {
        "id": "Bdjixj-muvu-",
        "colab_type": "code",
        "colab": {
          "base_uri": "https://localhost:8080/",
          "height": 1003
        },
        "outputId": "da6d2992-554a-473a-feaf-1621c8d881b3"
      },
      "cell_type": "code",
      "source": [
        "# TODO: Importe os três modelos de aprendizagem supervisionada do sklearn\n",
        "from sklearn import svm\n",
        "from sklearn.tree import DecisionTreeClassifier\n",
        "from sklearn.linear_model import LogisticRegression\n",
        "\n",
        "# TODO: Inicialize os três modelos\n",
        "clf_A = svm.SVC()\n",
        "clf_B = DecisionTreeClassifier()\n",
        "clf_C = LogisticRegression()\n",
        "\n",
        "# TODO: Configure os tamanho dos conjuntos de treinamento\n",
        "X_train_100, X_test_100, y_train_100, y_test_100 = train_test_split(X_all, y_all\n",
        "                                                                    , test_size=0.745\n",
        "                                                                    , train_size = 0.255\n",
        "                                                                    , random_state=42)\n",
        "\n",
        "X_train_200, X_test_200, y_train_200, y_test_200 = train_test_split(X_all, y_all\n",
        "                                                                    , test_size=0.493\n",
        "                                                                    , train_size = 0.507\n",
        "                                                                    , random_state=42)\n",
        "\n",
        "X_train_300, X_test_300, y_train_300, y_test_300 = train_test_split(X_all, y_all\n",
        "                                                                    , test_size=0.24\n",
        "                                                                    , train_size = 0.76\n",
        "                                                                    , random_state=42)\n",
        "\n",
        "# TODO: Executar a função 'train_predict' para cada classificador e cada tamanho de conjunto de treinamento\n",
        "# SVM\n",
        "train_predict(clf_A, X_train_100, y_train_100, X_test_100, y_test_100)\n",
        "train_predict(clf_A, X_train_200, y_train_200, X_test_200, y_test_200)\n",
        "train_predict(clf_A, X_train_300, y_train_300, X_test_300, y_test_300)\n",
        "print(\"\\n\")\n",
        "\n",
        "# Decision Tree\n",
        "train_predict(clf_B, X_train_100, y_train_100, X_test_100, y_test_100)\n",
        "train_predict(clf_B, X_train_200, y_train_200, X_test_200, y_test_200)\n",
        "train_predict(clf_B, X_train_300, y_train_300, X_test_300, y_test_300)\n",
        "print(\"\\n\")\n",
        "\n",
        "# LogisticRegression\n",
        "train_predict(clf_C, X_train_100, y_train_100, X_test_100, y_test_100)\n",
        "train_predict(clf_C, X_train_200, y_train_200, X_test_200, y_test_200)\n",
        "train_predict(clf_C, X_train_300, y_train_300, X_test_300, y_test_300)"
      ],
      "execution_count": 30,
      "outputs": [
        {
          "output_type": "stream",
          "text": [
            "Treinando um SVC com 100 pontos de treinamento. . .\n",
            "O modelo foi treinado em 0.0025 segundos\n",
            "As previsões foram feitas em 0.0014 segundos.\n",
            "Pontuação F1 para o conjunto de treino: 0.8481.\n",
            "As previsões foram feitas em 0.0032 segundos.\n",
            "Pontuação F1 para o conjunto de teste: 0.8115.\n",
            "Treinando um SVC com 200 pontos de treinamento. . .\n",
            "O modelo foi treinado em 0.0045 segundos\n",
            "As previsões foram feitas em 0.0031 segundos.\n",
            "Pontuação F1 para o conjunto de treino: 0.8868.\n",
            "As previsões foram feitas em 0.0030 segundos.\n",
            "Pontuação F1 para o conjunto de teste: 0.8013.\n",
            "Treinando um SVC com 300 pontos de treinamento. . .\n",
            "O modelo foi treinado em 0.0089 segundos\n",
            "As previsões foram feitas em 0.0064 segundos.\n",
            "Pontuação F1 para o conjunto de treino: 0.8761.\n",
            "As previsões foram feitas em 0.0023 segundos.\n",
            "Pontuação F1 para o conjunto de teste: 0.7838.\n",
            "\n",
            "\n",
            "Treinando um DecisionTreeClassifier com 100 pontos de treinamento. . .\n",
            "O modelo foi treinado em 0.0013 segundos\n",
            "As previsões foram feitas em 0.0005 segundos.\n",
            "Pontuação F1 para o conjunto de treino: 1.0000.\n",
            "As previsões foram feitas em 0.0006 segundos.\n",
            "Pontuação F1 para o conjunto de teste: 0.6950.\n",
            "Treinando um DecisionTreeClassifier com 200 pontos de treinamento. . .\n",
            "O modelo foi treinado em 0.0019 segundos\n",
            "As previsões foram feitas em 0.0005 segundos.\n",
            "Pontuação F1 para o conjunto de treino: 1.0000.\n",
            "As previsões foram feitas em 0.0005 segundos.\n",
            "Pontuação F1 para o conjunto de teste: 0.7224.\n",
            "Treinando um DecisionTreeClassifier com 300 pontos de treinamento. . .\n",
            "O modelo foi treinado em 0.0023 segundos\n",
            "As previsões foram feitas em 0.0006 segundos.\n",
            "Pontuação F1 para o conjunto de treino: 1.0000.\n",
            "As previsões foram feitas em 0.0005 segundos.\n",
            "Pontuação F1 para o conjunto de teste: 0.6560.\n",
            "\n",
            "\n",
            "Treinando um LogisticRegression com 100 pontos de treinamento. . .\n",
            "O modelo foi treinado em 0.0016 segundos\n",
            "As previsões foram feitas em 0.0004 segundos.\n",
            "Pontuação F1 para o conjunto de treino: 0.9275.\n",
            "As previsões foram feitas em 0.0005 segundos.\n",
            "Pontuação F1 para o conjunto de teste: 0.7196.\n",
            "Treinando um LogisticRegression com 200 pontos de treinamento. . .\n",
            "O modelo foi treinado em 0.0025 segundos\n",
            "As previsões foram feitas em 0.0004 segundos.\n",
            "Pontuação F1 para o conjunto de treino: 0.8721.\n",
            "As previsões foram feitas em 0.0004 segundos.\n",
            "Pontuação F1 para o conjunto de teste: 0.7814.\n",
            "Treinando um LogisticRegression com 300 pontos de treinamento. . .\n",
            "O modelo foi treinado em 0.0033 segundos\n",
            "As previsões foram feitas em 0.0004 segundos.\n",
            "Pontuação F1 para o conjunto de treino: 0.8468.\n",
            "As previsões foram feitas em 0.0003 segundos.\n",
            "Pontuação F1 para o conjunto de teste: 0.8060.\n"
          ],
          "name": "stdout"
        }
      ]
    },
    {
      "metadata": {
        "id": "Vu2Tsz66uvvB",
        "colab_type": "text"
      },
      "cell_type": "markdown",
      "source": [
        "### Resultados em tabelas\n",
        "Edite a célula abaixo e veja como a tabela pode ser desenhada em [Markdown](https://github.com/adam-p/markdown-here/wiki/Markdown-Cheatsheet#tables). Você deve salvar seus resultados abaixo nas tabelas fornecidas."
      ]
    },
    {
      "metadata": {
        "id": "gefgAgbxuvvC",
        "colab_type": "text"
      },
      "cell_type": "markdown",
      "source": [
        "** Classificador 1 - SVC**  \n",
        "\n",
        "| Tamanho do Conjunto de Treinamento | Tempo de Treinamento | Tempo de Estimativa (teste) | Pontuação F1 (treinamento) | Pontuação F1 (teste) |\n",
        "| :--------------------------------: | :------------------: | :-------------------------: | :------------------------: | :------------------: |\n",
        "| 100                                |0.0025s                      |0.0032s                             |0.8481                            |0.8115                      |\n",
        "| 200                                |       0.0045s        |0.0030s                             |0.8868                            |0.8013                      |\n",
        "| 300                                | 0.0089s                     |0.0023s                             |0.8761                            |0.7838       |\n",
        "\n",
        "** Classificador 2 - DecisionTreeClassifier**  \n",
        "\n",
        "| Tamanho do Conjunto de Treinamento | Tempo de Treinamento | Tempo de Estimativa (teste) | Pontuação F1 (treinamento) | Pontuação F1 (teste) |\n",
        "| :--------------------------------: | :------------------: | :-------------------------: | :------------------------: | :------------------: |\n",
        "| 100                                |0.0013s                      |0.0006s                             |1.0000                            |0.6950                      |\n",
        "| 200                                |0.0019s        |0.0005s                             |1.0000                            |0.7224                      |\n",
        "| 300                                |0.0023s                      |0.0005s                             |1.0000                            |0.6560       |\n",
        "\n",
        "** Classificador 3 - LogisticRegression**  \n",
        "\n",
        "| Tamanho do Conjunto de Treinamento | Tempo de Treinamento | Tempo de Estimativa (teste) | Pontuação F1 (treinamento) | Pontuação F1 (teste) |\n",
        "| :--------------------------------: | :------------------: | :-------------------------: | :------------------------: | :------------------: |\n",
        "| 100                                |0.0016s                      |0.0005s                             |0.9275                            |0.7196                      |\n",
        "| 200                                |0.0025s                      |0.0004s                             |0.8721                            |0.7814                      |\n",
        "| 300                                |0.0033s                      |0.0003s                             |0.8468                            |0.8060                      |"
      ]
    },
    {
      "metadata": {
        "id": "Go0z1gpFuvvD",
        "colab_type": "text"
      },
      "cell_type": "markdown",
      "source": [
        "## Escolhendo o Melhor Modelo\n",
        "Nesta seção final, você irá escolher dos três modelos de aprendizagem supervisionada o *melhor* para utilizar os dados dos estudantes. Você então executará um busca em matriz otimizada para o modelo em todo o conjunto de treinamento (`X_train` e `y_train`) ao calibrar pelo menos um parâmetro, melhorando em comparação a pontuação F<sub>1</sub> do modelo não calibrado. "
      ]
    },
    {
      "metadata": {
        "id": "OOyvt-PCuvvD",
        "colab_type": "text"
      },
      "cell_type": "markdown",
      "source": [
        "### Questão 3 - Escolhendo o Melhor Modelo\n",
        "*Baseando-se nos experimentos que você executou até agora, explique em um ou dois parágrafos ao conselho de supervisores qual modelo que você escolheu como o melhor. Qual modelo é o mais apropriado baseado nos dados disponíveis, recursos limitados, custo e desempenho?*"
      ]
    },
    {
      "metadata": {
        "id": "u-R54ZyEuvvF",
        "colab_type": "text"
      },
      "cell_type": "markdown",
      "source": [
        "**Resposta: ** de acordo com os resultados obtidos até agora o modelo escolhido seria o SVM, pois o mesmo teve uma pontuação melhor em seus testes. O seu custo é baixo, pois observamos que foram necessários apenas 0.004 segundos para o teste do modelo aplicado a 95 alunos e 0.06 segundos para treinamento do modelo com 300 alunos."
      ]
    },
    {
      "metadata": {
        "id": "x9V0DQuiuvvF",
        "colab_type": "text"
      },
      "cell_type": "markdown",
      "source": [
        "### Questão 4 – O Modelo para um Leigo\n",
        "*Em um ou dois parágrafos, explique para o conselho de supervisores, utilizando termos leigos, como o modelo final escolhido deve trabalhar. Tenha certeza que você esteja descrevendo as melhores qualidades do modelo, por exemplo, como o modelo é treinado e como ele faz uma estimativa. Evite jargões técnicos ou matemáticos, como descrever equações ou discutir a implementação do algoritmo.*"
      ]
    },
    {
      "metadata": {
        "id": "GiSIYYVLuvvH",
        "colab_type": "text"
      },
      "cell_type": "markdown",
      "source": [
        "**Resposta: ** o SVM mapeia dados para um espaço de variável altamente dimensional para que os dados possam ser categorizados, mesmo quando estes não forem de outra forma linearmente separáveis. Após a identificação de um separador das categorias, os dados são transformados de modo que o separador possa ser desenhado como um hiperplano."
      ]
    },
    {
      "metadata": {
        "id": "P3vghURauvvI",
        "colab_type": "text"
      },
      "cell_type": "markdown",
      "source": [
        "### Implementação: Calibrando o Modelo (_Tuning_)\n",
        "Calibre o modelo escolhido. Utilize busca em matriz (`GridSearchCV`) com, pelo menos, um parâmetro importante calibrado com, pelo menos, 3 valores diferentes. Você vai precisar utilizar todo o conjunto de treinamento para isso. Na célula de código abaixo, você deve implementar o seguinte:\n",
        "- Importe [`sklearn.grid_search.gridSearchCV`](http://scikit-learn.org/stable/modules/generated/sklearn.grid_search.GridSearchCV.html) e [`sklearn.metrics.make_scorer`](http://scikit-learn.org/stable/modules/generated/sklearn.metrics.make_scorer.html).\n",
        "- Crie o dicionário de parâmetros que você deseja calibrar para o modelo escolhido.\n",
        " - Examplo: `parameters = {'parameter' : [list of values]}`.\n",
        "- Inicialize o classificador que você escolheu e armazene-o em `clf`.\n",
        "- Crie a função de pontuação F<sub>1</sub> utilizando `make_scorer` e armazene-o em `f1_scorer`.\n",
        " - Estabeleça o parâmetro `pos_label` para o valor correto!\n",
        "- Execute uma busca em matriz no classificador `clf` utilizando o `f1_scorer` como método de pontuação e armazene-o em `grid_obj`.\n",
        "- Treine o objeto de busca em matriz com os dados de treinamento (`X_train`, `y_train`) e armazene-o em `grid_obj`."
      ]
    },
    {
      "metadata": {
        "id": "S4nOqqPJuvvJ",
        "colab_type": "code",
        "colab": {
          "base_uri": "https://localhost:8080/",
          "height": 139
        },
        "outputId": "461970b1-c2ed-4e9a-b473-9323eddfe0d0"
      },
      "cell_type": "code",
      "source": [
        "# TODO: Importe 'GridSearchCV' e 'make_scorer'\n",
        "from sklearn.grid_search import GridSearchCV\n",
        "from sklearn.metrics import make_scorer\n",
        "\n",
        "# TODO: Crie a lista de parâmetros que você gostaria de calibrar\n",
        "parameters = {'C' : [2.0, 3.0,4.0, 10.0,50.0], 'kernel': ['poly', 'rbf', 'sigmoid']}\n",
        "\n",
        "# TODO: Inicialize o classificador\n",
        "clf = svm.SVC(random_state=42)\n",
        "\n",
        "# TODO: Faça uma função de pontuação f1 utilizando 'make_scorer' \n",
        "f1_scorer = make_scorer(f1_score, pos_label='yes')\n",
        "\n",
        "# TODO: Execute uma busca em matriz no classificador utilizando o f1_scorer como método de pontuação\n",
        "grid_obj = GridSearchCV(clf, parameters, scoring=f1_scorer, cv=5, verbose=0)\n",
        "\n",
        "# TODO: Ajuste o objeto de busca em matriz para o treinamento de dados e encontre os parâmetros ótimos\n",
        "grid_obj = grid_obj.fit(X_train, y_train)\n",
        "\n",
        "# Get the estimator\n",
        "clf = grid_obj.best_estimator_\n",
        "\n",
        "# Reporte a pontuação final F1 para treinamento e teste depois de calibrar os parâmetrosprint \"Tuned model has a training F1 score of {:.4f}.\".format(predict_labels(clf, X_train, y_train))\n",
        "print(\"O modelo calibrado tem F1 de {:.4f} no conjunto de treinamento.\".format(predict_labels(clf, X_train, y_train)))\n",
        "print(\"O modelo calibrado tem F1 de {:.4f} no conjunto de teste.\".format(predict_labels(clf, X_test, y_test)))"
      ],
      "execution_count": 31,
      "outputs": [
        {
          "output_type": "stream",
          "text": [
            "/usr/local/lib/python3.6/dist-packages/sklearn/grid_search.py:42: DeprecationWarning: This module was deprecated in version 0.18 in favor of the model_selection module into which all the refactored classes and functions are moved. This module will be removed in 0.20.\n",
            "  DeprecationWarning)\n"
          ],
          "name": "stderr"
        },
        {
          "output_type": "stream",
          "text": [
            "As previsões foram feitas em 0.0057 segundos.\n",
            "O modelo calibrado tem F1 de 0.9318 no conjunto de treinamento.\n",
            "As previsões foram feitas em 0.0024 segundos.\n",
            "O modelo calibrado tem F1 de 0.7737 no conjunto de teste.\n"
          ],
          "name": "stdout"
        }
      ]
    },
    {
      "metadata": {
        "id": "gBNP9QnIuvvM",
        "colab_type": "text"
      },
      "cell_type": "markdown",
      "source": [
        "### Questão 5 - Pontuação F<sub>1</sub> Final\n",
        "*Qual é a pontuação F<sub>1</sub> do modelo final para treinamento e teste? Como ele se compara ao modelo que não foi calibrado?*"
      ]
    },
    {
      "metadata": {
        "id": "kD4u9uRuuvvN",
        "colab_type": "text"
      },
      "cell_type": "markdown",
      "source": [
        "**Resposta: ** O modelo final tem pontuação F1 0.9318 para treinamento e 0.7737 para teste. A pontuação de teste deste modelo calibrado foi pouco menor em relação ao modelo não calibrado."
      ]
    },
    {
      "metadata": {
        "id": "7MW9j9fouvvO",
        "colab_type": "text"
      },
      "cell_type": "markdown",
      "source": [
        "> **Nota**: Uma vez que você completou todas as implementações de código e respondeu todas as questões acima com êxito, você pode finalizar seu trabalho exportando o iPython Nothebook como um document HTML. Você pode fazer isso utilizando o menu acima e navegando para  \n",
        "**File -> Download as -> HTML (.html)**. Inclua a documentação final junto com o notebook para o envio do seu projeto."
      ]
    }
  ]
}